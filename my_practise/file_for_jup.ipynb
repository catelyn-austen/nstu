{
 "cells": [
  {
   "cell_type": "code",
   "execution_count": 1,
   "metadata": {},
   "outputs": [
    {
     "name": "stdout",
     "output_type": "stream",
     "text": [
      "hello\n"
     ]
    }
   ],
   "source": [
    "print('hello')\n"
   ]
  },
  {
   "cell_type": "markdown",
   "metadata": {},
   "source": [
    "# Heading"
   ]
  },
  {
   "cell_type": "markdown",
   "metadata": {},
   "source": [
    "### Heading lil\n",
    "*cursive data*\n",
    "\n",
    "**bold data**\n",
    "\n",
    "A list:\n",
    "\n",
    "* one\n",
    "* two\n",
    "* three\n",
    "\n",
    "A marked list:\n",
    "\n",
    "1. one\n",
    "2. two\n",
    "3. three\n",
    "\n",
    "A formula:\n",
    "\n",
    "$$\n",
    "\\sum ^n _{i=0} y_i = a_i \\cdot x_i + b_i\n",
    "$$\n",
    "\n",
    "A picture:\n",
    "\n",
    "![pic](tokyo3.jpg)"
   ]
  },
  {
   "cell_type": "code",
   "execution_count": 2,
   "metadata": {},
   "outputs": [
    {
     "data": {
      "image/png": "[encoded data removed]",
      "text/plain": [
       "<Figure size 640x480 with 1 Axes>"
      ]
     },
     "metadata": {},
     "output_type": "display_data"
    }
   ],
   "source": [
    "\n",
    "import matplotlib.pyplot as plt\n",
    "\n",
    "x = [0, 1, 2]\n",
    "y = [0, 1, 4]\n",
    "\n",
    "plt.plot(x,y)\n",
    "plt.show()"
   ]
  },
  {
   "cell_type": "markdown",
   "metadata": {},
   "source": [
    "## Работа со строками "
   ]
  },
  {
   "cell_type": "code",
   "execution_count": 7,
   "metadata": {},
   "outputs": [
    {
     "name": "stdout",
     "output_type": "stream",
     "text": [
      "I-am\n"
     ]
    },
    {
     "data": {
      "text/plain": [
       "'c:\\\\Users\\\\Екатерина\\\\vs_code_files'"
      ]
     },
     "execution_count": 7,
     "metadata": {},
     "output_type": "execute_result"
    }
   ],
   "source": [
    "print(\"I\", \"am\", sep=\"-\")\n",
    "import os\n",
    "os.getcwd()"
   ]
  },
  {
   "cell_type": "code",
   "execution_count": 58,
   "metadata": {},
   "outputs": [
    {
     "data": {
      "text/plain": [
       "b'\\xd0\\xbf\\xd1\\x80\\xd0\\xb8\\xd0\\xb2\\xd0\\xb5\\xd1\\x82'"
      ]
     },
     "execution_count": 58,
     "metadata": {},
     "output_type": "execute_result"
    }
   ],
   "source": [
    "'привет'.encode() # из utf-8 в unicode\n",
    "#b'\\xd0\\xbf\\xd1\\x80\\xd0\\xb8\\xd0\\xb2\\xd0\\xb5\\xd1\\x82'.decode('cp1251') # из unicode в utf-8?"
   ]
  },
  {
   "cell_type": "code",
   "execution_count": 65,
   "metadata": {},
   "outputs": [
    {
     "name": "stdout",
     "output_type": "stream",
     "text": [
      "1608897112816\n",
      "1608897112816\n"
     ]
    }
   ],
   "source": [
    "x = \"gay\"\n",
    "x = 4\n",
    "x = \"gay1\"\n",
    "type(x)\n",
    "isinstance(x, str)\n",
    "print(id(x))\n",
    "y = x\n",
    "print(id(y))"
   ]
  },
  {
   "cell_type": "markdown",
   "metadata": {},
   "source": [
    "#### find ищет с начала строки, rfind - с конца"
   ]
  },
  {
   "cell_type": "code",
   "execution_count": 18,
   "metadata": {},
   "outputs": [
    {
     "data": {
      "text/plain": [
       "-1"
      ]
     },
     "execution_count": 18,
     "metadata": {},
     "output_type": "execute_result"
    }
   ],
   "source": [
    "x = 'abracadabraa'\n",
    "x.rfind('f')\n",
    "#x.upper()"
   ]
  },
  {
   "cell_type": "markdown",
   "metadata": {},
   "source": [
    "#### isalpha - проверка на то, все ли символы в строке являются буквами\n",
    "#### isdigit == isnumeric\n",
    "#### isalnum - проверка на наличие символов или цифр\n",
    "* ', '.join(list) - выводит содержимое списка, прибавляя после каждого элемента запятую с пробелом"
   ]
  },
  {
   "cell_type": "code",
   "execution_count": 15,
   "metadata": {},
   "outputs": [
    {
     "name": "stdout",
     "output_type": "stream",
     "text": [
      "Gaga: 1, 2, 3\n"
     ]
    }
   ],
   "source": [
    "x = 'ahah 4 ahaha'\n",
    "x.isalpha()\n",
    "x = '4v5358'\n",
    "x.isalnum()\n",
    "print('Gaga: ' + ', '.join(['1', '2', '3']))"
   ]
  },
  {
   "cell_type": "markdown",
   "metadata": {},
   "source": [
    "# Списки\n",
    "* l.append(1)\n",
    "* l.extend([1, 2, 3]) - когда тип много значений\n",
    "* l.insert(место, что вставить)\n",
    "* del l[1] - удаление n-ого элемента\n",
    "* l.remove(1) - удалить первый встречающийся объект 1\n",
    "* l + [1, 2, 3] - так тоже можно расширить\n",
    "* 5 in l - проверить, входит ли 5 в l\n",
    "* list(range(10)) - создаст список-последовательность чисел от 0 до 9\n",
    "* list() = [] - пустой\n",
    "* l.count(5) - считает кол-во 5\n",
    "* l.sort()\n",
    "* l_sq = [i ** 2 for i in l] - преобразование списка\n",
    "\n",
    "# Кортежи\n",
    "Кортежи = неизменяемые списки. Все, что можно сделать, это добавить новые элементы\n",
    "\n",
    "my_cort = (1, 2, 3)\n",
    "\n",
    "my_cort + (5, 6)\n",
    "\n",
    "# Словари\n",
    "* Создание по умолчанию пустым - {}\n",
    "* d = {'ключ': 'значение'}\n",
    "* ключом и значением могут быть как строки, числа, так и списки\n",
    "#### НО ЛУЧШЕ ДЕЛАТЬ ОДИНАКОВУЮ СТРУКТУРУ ДЛЯ КЛЮЧЕЙ И ЗНАЧЕНИЙ\n",
    "* d['я'] = 'человек' - добавление ключа со значением\n",
    "* 77 in d - проверка вхождения\n",
    "* сравнение словарей происходит по длине ключей, затем по значениям\n",
    "* d.get('cat', 'fig') - дай мне кота, а если его нет, то напиши fig\n",
    "* d.setdefault('cat', 'siames') - дай кота, если нет, то вставь его в d и присвой значение siames\n",
    "* d.items() - метод, выдающий пару (ключ, значение)\n",
    "* d.values() - метод, выдающий только значения\n",
    "\n",
    "# Множества\n",
    "* хранят уникальные объекты упорядоченно\n",
    "* set() - объявление\n",
    "* my_set = set([1, 2, 5, 2, 3, 4, 5, 5, 5]) = {1, 2, 3, 4, 5}\n",
    "* other_set = {1, 2, 3, 3, 3, 4, 4, 5, 6} = {1, 2, 3, 4, 5, 6}\n",
    "* my_set | other_set - объединение\n",
    "* my_set & other_set - пересечение\n",
    "* my_set - other_set - вычитание (элементы 1 списка, которых нет во втором)\n",
    "* set.add() - добавление\n",
    "* set.pop() / .discard() - удаление\n",
    "* set.update() - обновление\n",
    "\n",
    "#### enumerate - выдает пары значений (номер элемента, элемент)\n",
    "for i, element in enumerate(list):\n",
    "\n",
    "        print(i, element)\n",
    "\n",
    "# Функции\n",
    "* функция может являться параметром другой функции\n",
    "* можно сделать так, чтобы функции обязательно подавались явные параметры:\n",
    "\n",
    "def kkaka(x, y, *, z):\n",
    "\n",
    "        ...\n",
    "\n",
    "kkaka(1, 2, z = 3)\n",
    "\n",
    "kkaka(z=7, x=2, y=9)\n",
    "\n",
    "* распаковка:\n",
    "\n",
    "l = [1, 2, 3]\n",
    "\n",
    "def lol(x, y, z):\n",
    "\n",
    "        ...\n",
    "\n",
    "lol(*l)\n",
    "\n",
    "#### или\n",
    "\n",
    "d = {\"x\": 1, \"y\": 2, \"z\": 3}\n",
    "\n",
    "lol(**d)\n",
    "\n",
    "#### Можно вообще совмещать\n",
    "\n",
    "lol(*l, **d)\n",
    "\n",
    "lol(2, *l)\n",
    "\n",
    "* лучше указывать параметры явно, а не позиционно\n",
    "* должно быть от 3 до 7 параметров и не больше\n",
    "* произвольное число поизиционных (неименованных) параметров:\n",
    "\n",
    "def kkk(*args): # args - tuple\n",
    "\n",
    "        ...\n",
    "\n",
    "kkk(list_)\n",
    "* произвольное число именованных параметров:\n",
    "\n",
    "def kkk(**kwargs): # kwargs - tuple, keywordargs\n",
    "\n",
    "        ...\n",
    "\n",
    "kkk(name = \"Глаша\", age = 8)\n",
    "* документирование:\n"
   ]
  },
  {
   "cell_type": "code",
   "execution_count": 10,
   "metadata": {},
   "outputs": [
    {
     "name": "stdout",
     "output_type": "stream",
     "text": [
      " Данная функция смеётся над тобой, \n",
      "    несчастный пользователь\n",
      "Help on function haha_hihi in module __main__:\n",
      "\n",
      "haha_hihi(param)\n",
      "    Данная функция смеётся над тобой,\n",
      "    несчастный пользователь\n",
      "\n"
     ]
    }
   ],
   "source": [
    "def haha_hihi(param):\n",
    "    ''' Данная функция смеётся над тобой, \n",
    "    несчастный пользователь'''\n",
    "    param += 1\n",
    "    return param\n",
    "\n",
    "# читаем документацию (2 способа)\n",
    "print(haha_hihi.__doc__)\n",
    "help(haha_hihi)"
   ]
  },
  {
   "cell_type": "code",
   "execution_count": 13,
   "metadata": {},
   "outputs": [
    {
     "name": "stdout",
     "output_type": "stream",
     "text": [
      "5.0\n",
      "error\n"
     ]
    }
   ],
   "source": [
    "# спасаем себя от дебильной неправильной типизации\n",
    "def hihi(p1, p2):\n",
    "    if (isinstance(p1, float) or isinstance(p1, int)) and (isinstance(p2, float) or isinstance(p2, int)):\n",
    "        return p1 * p2\n",
    "    else: return 'error'\n",
    "\n",
    "print(hihi(2.5, 2))\n",
    "print(hihi('hi', 5))\n"
   ]
  },
  {
   "cell_type": "code",
   "execution_count": 6,
   "metadata": {},
   "outputs": [
    {
     "name": "stdout",
     "output_type": "stream",
     "text": [
      "('kaka', 27)\n",
      "kaka\n"
     ]
    }
   ],
   "source": [
    "def create_user():\n",
    "    name = \"kaka\"\n",
    "    age = 27\n",
    "    return name, age\n",
    "\n",
    "# вернет тьюпл (кортеж)\n",
    "res = create_user()\n",
    "print(res)\n",
    "\n",
    "# вернет 2 значения (распакует кортеж)\n",
    "res1, res2 = create_user()\n",
    "print(res1)"
   ]
  },
  {
   "cell_type": "markdown",
   "metadata": {},
   "source": [
    "# Функция zip()\n",
    "* она соотносит каждый элемент из одного списка с соответствующим элементом из другого, в результате получается НАБОР тьюплов, который можно преобразовать в список для удобства\n",
    "* несоответствие длин списков не вызовет ошибок"
   ]
  },
  {
   "cell_type": "code",
   "execution_count": 9,
   "metadata": {},
   "outputs": [
    {
     "name": "stdout",
     "output_type": "stream",
     "text": [
      "[('mon', 100), ('tue', 200), ('wed', 300), ('thu', 400)]\n"
     ]
    }
   ],
   "source": [
    "profit = [100, 200, 300, 400, 500]\n",
    "days = [\"mon\", \"tue\", \"wed\", \"thu\",]\n",
    "res = zip(days, profit)\n",
    "print(list(res))"
   ]
  },
  {
   "cell_type": "markdown",
   "metadata": {},
   "source": [
    "# Функция all и any\n",
    "* all вернет тру, если все значения будут тру\n",
    "* any вернет тру, если есть хотя бы 1 значение тру"
   ]
  },
  {
   "cell_type": "code",
   "execution_count": 12,
   "metadata": {},
   "outputs": [
    {
     "data": {
      "text/plain": [
       "False"
      ]
     },
     "execution_count": 12,
     "metadata": {},
     "output_type": "execute_result"
    }
   ],
   "source": [
    "#all([1, 1, -1])\n",
    "all([1, 1, 0])"
   ]
  },
  {
   "cell_type": "markdown",
   "metadata": {},
   "source": [
    "# Интроспекция\n",
    "* dir(a) - список всех атрибутов объекта а\n",
    "* help(a) - список + описание\n",
    "* id(a) - буквально айди объекта, имеющего имя а\n",
    "* a is b - сравнение айдишек\n",
    "* hash(a) - хэширует объект. так надо для сокращения памяти. его можно брать только от неизменяемых объектов\n",
    "* isinstance(a, int) - описание выше\n",
    "* type() - итак понятно\n",
    "* open('file.txt', 'r') - открывает файл\n",
    "* file.close() - закрывает файл"
   ]
  },
  {
   "cell_type": "code",
   "execution_count": 16,
   "metadata": {},
   "outputs": [
    {
     "name": "stdout",
     "output_type": "stream",
     "text": [
      "2\n"
     ]
    }
   ],
   "source": [
    "dic = {\"a\": 1, \"b\": 2, \"c\": 3}\n",
    "page = list(dic.items())[1][1]\n",
    "print(page)"
   ]
  },
  {
   "cell_type": "markdown",
   "metadata": {},
   "source": [
    "# ООП\n",
    "* свойства - аттрибуты, дейстия - методы\n",
    "* аттрибут: car.speed\n",
    "* аттрибуты описываются в конструкторе\n",
    "* метод: car.run()\n",
    "* методы - функции с параметрами\n",
    "* аттрибуты можно создавать на ходу, но лишь у одного конкретного объекта\n",
    "\n",
    "----------------------------------------\n",
    "\n",
    "class ClassName:\n",
    "\n",
    "    <действие 1>\n",
    "\n",
    "    ...\n",
    "\n",
    "    <действие n>\n",
    "\n",
    "----------------------------------------\n",
    "* __init__(self) - функция, инициал. объект\n",
    "* del object.atribute - удаление аттрибута у конкретного объекта\n",
    "\n",
    "#### манипуляции с аттрибутами\n",
    "* hasattr(object, attr_name) - есть ли у объекта аттрибут\n",
    "* setattr(object, attr_name, value) - назначаем объекту аттрибут и даем ему значение\n",
    "* getattr(object, attr_name) - получение значения по указанному аттрибуту\n",
    "* delattr(object, attr_name) - удаление аттрибута\n",
    "\n",
    "#### self\n",
    "* если связано с объектом, то: object.method(item)\n",
    "* если не связано с объектом, то: Class.method(self=object, item)\n"
   ]
  },
  {
   "cell_type": "code",
   "execution_count": 2,
   "metadata": {},
   "outputs": [
    {
     "name": "stdout",
     "output_type": "stream",
     "text": [
      "She plays\n",
      "Ася\n"
     ]
    }
   ],
   "source": [
    "class Cat:\n",
    "    ''' Простой пример '''\n",
    "    def __init__(self):\n",
    "        self.name = 'Муся'\n",
    "        self.age = 0\n",
    "        self.mind = 'calm'\n",
    "\n",
    "    def play(self):\n",
    "        self.mind = 'happy'\n",
    "        print('She plays')\n",
    "\n",
    "cat1 = Cat()\n",
    "cat1.play()\n",
    "\n",
    "cat2 = Cat()\n",
    "cat2.name = 'Ася'\n",
    "print(cat2.name)"
   ]
  },
  {
   "cell_type": "code",
   "execution_count": null,
   "metadata": {},
   "outputs": [],
   "source": [
    "# Класс - лекало для производства\n",
    "born, need = 0, 10\n",
    "spisok = []\n",
    "while born < need:\n",
    "    cat = Cat()\n",
    "    spisok.append(cat)\n",
    "    born += 1"
   ]
  },
  {
   "cell_type": "markdown",
   "metadata": {},
   "source": [
    "#### сколько бы переменных не создавала присваиванием, они все будут указывать на одну ячейку памяти"
   ]
  },
  {
   "cell_type": "code",
   "execution_count": 4,
   "metadata": {},
   "outputs": [
    {
     "name": "stdout",
     "output_type": "stream",
     "text": [
      "Багира\n",
      "Ара\n",
      "Ара\n"
     ]
    }
   ],
   "source": [
    "cat3 = Cat()\n",
    "cat3.name = 'Багира'\n",
    "print(cat3.name)\n",
    "\n",
    "cat4 = cat3\n",
    "cat4.name = 'Ара'\n",
    "print(cat4.name)\n",
    "\n",
    "print(cat3.name)\n"
   ]
  },
  {
   "cell_type": "code",
   "execution_count": 13,
   "metadata": {},
   "outputs": [
    {
     "name": "stdout",
     "output_type": "stream",
     "text": [
      "no\n",
      "Муся\n",
      "Ася\n"
     ]
    }
   ],
   "source": [
    "# новый атрибут\n",
    "cat1.mother = 'no'\n",
    "print(cat1.mother)\n",
    "\n",
    "#print(cat2.mother)\n",
    "#del cat2.name\n",
    "#print(cat2.name)\n",
    "print(cat1.name)\n",
    "\n",
    "cat2.name = 'Ася'\n",
    "print(cat2.name)\n"
   ]
  },
  {
   "cell_type": "code",
   "execution_count": 4,
   "metadata": {},
   "outputs": [
    {
     "ename": "AttributeError",
     "evalue": "'Cat' object has no attribute 'mother'",
     "output_type": "error",
     "traceback": [
      "\u001b[1;31m---------------------------------------------------------------------------\u001b[0m",
      "\u001b[1;31mAttributeError\u001b[0m                            Traceback (most recent call last)",
      "Cell \u001b[1;32mIn[4], line 3\u001b[0m\n\u001b[0;32m      1\u001b[0m \u001b[38;5;66;03m#setattr(cat2, 'mother', 'yes')\u001b[39;00m\n\u001b[0;32m      2\u001b[0m \u001b[38;5;28mdelattr\u001b[39m(cat2, \u001b[38;5;124m'\u001b[39m\u001b[38;5;124mmother\u001b[39m\u001b[38;5;124m'\u001b[39m)\n\u001b[1;32m----> 3\u001b[0m \u001b[38;5;28mprint\u001b[39m(\u001b[43mcat2\u001b[49m\u001b[38;5;241;43m.\u001b[39;49m\u001b[43mmother\u001b[49m)\n",
      "\u001b[1;31mAttributeError\u001b[0m: 'Cat' object has no attribute 'mother'"
     ]
    }
   ],
   "source": [
    "setattr(cat2, 'mother', 'yes')\n",
    "#delattr(cat2, 'mother')\n",
    "print(cat2.mother)"
   ]
  },
  {
   "cell_type": "markdown",
   "metadata": {},
   "source": [
    "# Специальные методы (основные)\n",
    "* __init__(self, item) - инициализирует\n",
    "* __del__() - удаляет по умолчанию, даже если нам этого не хочется\n",
    "* __len__ - длина объекта\n",
    "* if object: ... - если есть __len__, то можно вот так пользоваться объектом\n",
    "* __bool__ - для получения истинности объекта, можно также с if else использовать\n",
    "* __hash__ - уникальный хэш объекта с помощью hash()\n",
    "* __str__ - преобразование объекта в строку\n",
    "* __eq__, __ne__, __lt__, __le__, __gt__, __ge__ - функции сравнения, благодаря которым можно сравнивать объекты класса напрямую (obj1 > obj2)\n",
    "* __add__, __sub__, __mul__, __truediv__, __floordiv__, __mod__, __pow__, __lshift__, __rshift__, __and__, __xor__, __or__ - эмуляция математических действий\n",
    "* __i...__ - операции расширенных мат. действий"
   ]
  },
  {
   "cell_type": "markdown",
   "metadata": {},
   "source": [
    "#### у класса тоже могут быть аттрибуты, которые обычно описывают состояние классов, например, количество объектов класса"
   ]
  },
  {
   "cell_type": "markdown",
   "metadata": {},
   "source": [
    "* a = choice(list) - случайным образом присваивает значение из list\n",
    "* cprint(..., color = '...') - текст цветной"
   ]
  },
  {
   "cell_type": "markdown",
   "metadata": {},
   "source": [
    "# Наследование\n",
    "* применяется там, где можно выделить общие свойства / поведение объектов класса\n",
    "* порядок поиска аттрибута:\n",
    "1. сам объект\n",
    "2. класс объекта\n",
    "3. родительский класс класса объекта\n",
    "* инакпсуляция:\n",
    "\n",
    "    переменные родителького класса, начинающие с __имя..., не видны дочерним классам. Это нужно иногда для скрытности так сказать\n",
    "\n",
    "* переопределение:\n",
    "\n",
    "    у дочерних классов можно переопределять методы родительского класса под себя. Тогда при вызове метода, будет выполнена та функция, которая принадлежит именно дочернему классу\n",
    "\n",
    "* super().method():\n",
    "\n",
    "    данный метод дополняет переопределенный метод method() дочернего класса, дополняя его таким же родительским\n",
    "\n",
    "* Множественное наследование:\n",
    "\n",
    "    см. ниже"
   ]
  },
  {
   "cell_type": "code",
   "execution_count": 6,
   "metadata": {},
   "outputs": [
    {
     "name": "stdout",
     "output_type": "stream",
     "text": [
      "Pet Шарик\n",
      "Всего ног 4\n",
      "Есть хвость? да\n",
      "Bobtail Муся\n",
      "Всего ног 4\n",
      "Есть хвость? нет\n",
      "мяу\n",
      "Животное хочет какать\n",
      "Кошка хочет в туалет\n",
      "Бобтейл хочет какать\n"
     ]
    }
   ],
   "source": [
    "class Pet():\n",
    "    ''' Домашнее животное '''\n",
    "    legs = 4\n",
    "    has_tail = True\n",
    "\n",
    "    def __init__(self, name):\n",
    "        self.name = name\n",
    "\n",
    "    def inspect(self):\n",
    "        print(self.__class__.__name__, self.name)\n",
    "        print(\"Всего ног\", self.legs)\n",
    "        print(\"Есть хвость?\", \"да\" if self.has_tail else \"нет\")\n",
    "\n",
    "    # для переопределения\n",
    "    def kakat(self):\n",
    "        print(\"Животное хочет какать\")\n",
    "\n",
    "class Cat(Pet):\n",
    "    ''' Кошка есть домашнее животное '''\n",
    "\n",
    "    def sound(self):\n",
    "        print(\"мяу\")\n",
    "    \n",
    "    # для переопределения\n",
    "    def kakat(self):\n",
    "        super().kakat()\n",
    "        print(\"Кошка хочет в туалет\")\n",
    "\n",
    "class Bobtail(Cat):\n",
    "    ''' Класс бобтейла '''\n",
    "    has_tail = False\n",
    "\n",
    "    # для переопределения\n",
    "    def kakat(self):\n",
    "        super().kakat()\n",
    "        print(\"Бобтейл хочет какать\")\n",
    "\n",
    "# kitty = Cat('Вася')\n",
    "# kitty.inspect()\n",
    "# kitty.sound()\n",
    "\n",
    "# puppy = Pet('Шарик')\n",
    "# puppy.inspect()\n",
    "\n",
    "bob = Bobtail('Муся')\n",
    "bob.inspect()\n",
    "bob.sound()\n",
    "bob.kakat()"
   ]
  },
  {
   "cell_type": "code",
   "execution_count": 45,
   "metadata": {},
   "outputs": [
    {
     "name": "stdout",
     "output_type": "stream",
     "text": [
      "Я животное средних размеров\n",
      "Я умею летать\n",
      "Имя Lady крылья 12\n",
      "(<class '__main__.Bird'>, <class '__main__.CanFly'>, <class '__main__.Pet'>, <class 'object'>)\n"
     ]
    }
   ],
   "source": [
    "# множественное наследование\n",
    "# очень внимательно нужно расставлять super()\n",
    "\n",
    "class Pet():\n",
    "\n",
    "    def method(self):\n",
    "        #super().method()\n",
    "        print(\"Я животное средних размеров\")\n",
    "\n",
    "class CanFly():\n",
    "\n",
    "    def method(self):\n",
    "        super().method()\n",
    "        print(\"Я умею летать\")\n",
    "\n",
    "# Сначала ставится животное, потому что это я посчитала более значимым признаком. Это также влияет на переопределение\n",
    "class Bird(CanFly, Pet):\n",
    "    def __init__(self, wing, name):\n",
    "        self.wing = wing\n",
    "        self.name = name\n",
    "\n",
    "    def method(self):\n",
    "        super().method()\n",
    "        print(\"Имя {} крылья {}\".format(self.name, self.wing))\n",
    "\n",
    "gaga = Bird(wing=12, name='Lady')\n",
    "gaga.method()\n",
    "print(gaga.__class__.__mro__) # так можно посмотреть в каком порядке будут искаться методы"
   ]
  },
  {
   "cell_type": "markdown",
   "metadata": {},
   "source": [
    "# Принципы ООП (основные)\n",
    "* абстракция - выделение классов объекта, абстрогирование от отдельного объекта\n",
    "* наследование - иерархия классов\n",
    "* инкапсуляция - сокрытие данных внутри объекта\n",
    "* полиморфизм - множественное наследование"
   ]
  },
  {
   "cell_type": "markdown",
   "metadata": {},
   "source": [
    "# Исключения (ошибки)\n",
    "* try:\n",
    "\n",
    "    <...>\n",
    "\n",
    "    except:\n",
    "\n",
    "    <...>\n",
    "\n",
    "* после except может быть название ошибки, например, Exception - общее исключение\n",
    "    * ZeroDivisionError\n",
    "    * ValueError\n",
    "    * IOError\n",
    "* except <> as exc:\n",
    "* else срабатывает, когда все ок\n",
    "* finally срабатывает всегда\n",
    "* traceback - стек вызовов функций (крч ты следила за этим стеком, не осознавая, что это стек, в с++ в vs)"
   ]
  },
  {
   "cell_type": "code",
   "execution_count": 12,
   "metadata": {},
   "outputs": [
    {
     "name": "stdout",
     "output_type": "stream",
     "text": [
      "ваша ошибка division by zero, ('division by zero',)\n",
      "bye\n"
     ]
    }
   ],
   "source": [
    "try:\n",
    "    i = 10 / 0\n",
    "except Exception as exc:\n",
    "    print(f\"ваша ошибка {exc}, {exc.args}\")\n",
    "else:\n",
    "    print(i)\n",
    "finally:\n",
    "    print(\"bye\")"
   ]
  },
  {
   "cell_type": "markdown",
   "metadata": {},
   "source": [
    "#### with <> as <>: - контекстный менеджер, который является эквивалентом try except \n",
    "* raise - вызвать ошибку\n",
    "* можно создать свой класс ошибок, при это указав в параметрах Exceptname(Exception)\n",
    "* warning: нельзя пихать в try except\n",
    "* import warnings\n",
    "\n",
    "    warnings.warn(\"...\", category='...')\n",
    "* можно фильтровать предупреждения: warnings.simplefilter(\"ignore/.../error\")"
   ]
  },
  {
   "cell_type": "code",
   "execution_count": 14,
   "metadata": {},
   "outputs": [
    {
     "name": "stdout",
     "output_type": "stream",
     "text": [
      "division by zero\n"
     ]
    }
   ],
   "source": [
    "try:\n",
    "    i = 10 / 0\n",
    "    a = b + c\n",
    "except Exception as exc:\n",
    "    print(f\"{exc}\")"
   ]
  }
 ],
 "metadata": {
  "kernelspec": {
   "display_name": "Python 3",
   "language": "python",
   "name": "python3"
  },
  "language_info": {
   "codemirror_mode": {
    "name": "ipython",
    "version": 3
   },
   "file_extension": ".py",
   "mimetype": "text/x-python",
   "name": "python",
   "nbconvert_exporter": "python",
   "pygments_lexer": "ipython3",
   "version": "3.12.0"
  }
 },
 "nbformat": 4,
 "nbformat_minor": 2
}
