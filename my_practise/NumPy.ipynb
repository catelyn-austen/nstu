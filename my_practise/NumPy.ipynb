{
 "cells": [
  {
   "cell_type": "markdown",
   "metadata": {},
   "source": [
    "# NumPy\n",
    "* np.mean(axis=)\n",
    "* np.median()\n",
    "* np.percentile(arr.column, 50) - показывает процентиль (квантиль) 50\n",
    "* kurtosis(v.volume) - эксцесс\n",
    "* skew(v.volume) - ассиметрия\n",
    "* df['col'] = np.where(condition, x, y) - если срабатывает condition, то x, иначе y\n",
    "* arr.min(), arr.max()\n",
    "* arr.argmax() - индекс первого элемента с максимальным значением\n",
    "* arr.argmin()\n",
    "* arr.ndim - число измерений массива arr\n",
    "* arr.shape - форма массива, например, (3, 2) - 3 строки и 2 столбца\n",
    "* arr.size - размер массива (кол-во элементов)\n",
    "* в массиве хранятся только элементы одного типа\n",
    "* np.array() - из списка делает массив\n",
    "* массивы занимают меньше места и памяти\n",
    "* операции с массивами выполняются без циклов\n",
    "* с базовыми структурами python нельзя нормально работать, например, нельзя получить квадраты элементов списка, просто возведя сам список в квадрат\n",
    "* обращение к элементам такое же, как в списках или вот таким образом: arr[1, 1] - обращение к 1 элементу 1 подмассива\n",
    "* можно брать срез\n",
    "* шаг можно брать так: arr[::2] - каждый второй элемент во всем массиве"
   ]
  },
  {
   "cell_type": "code",
   "execution_count": 1,
   "metadata": {},
   "outputs": [],
   "source": [
    "# создание массивов\n",
    "import numpy as np"
   ]
  },
  {
   "cell_type": "code",
   "execution_count": 2,
   "metadata": {},
   "outputs": [
    {
     "data": {
      "text/plain": [
       "array([['Anna', 'Kate'],\n",
       "       ['23', '24']], dtype='<U11')"
      ]
     },
     "execution_count": 2,
     "metadata": {},
     "output_type": "execute_result"
    }
   ],
   "source": [
    "# разные типы\n",
    "np.array([['Anna', 'Kate'],\n",
    "          [23, 24]])"
   ]
  },
  {
   "cell_type": "code",
   "execution_count": 3,
   "metadata": {},
   "outputs": [
    {
     "data": {
      "text/plain": [
       "array([[1. , 2.5],\n",
       "       [5. , 4. ]])"
      ]
     },
     "execution_count": 3,
     "metadata": {},
     "output_type": "execute_result"
    }
   ],
   "source": [
    "# преобразование элементов в 1 тип\n",
    "np.array([[1, 2.5],\n",
    "          [5, 4]])"
   ]
  },
  {
   "cell_type": "code",
   "execution_count": 6,
   "metadata": {},
   "outputs": [
    {
     "ename": "ValueError",
     "evalue": "setting an array element with a sequence. The requested array has an inhomogeneous shape after 1 dimensions. The detected shape was (2,) + inhomogeneous part.",
     "output_type": "error",
     "traceback": [
      "\u001b[1;31m---------------------------------------------------------------------------\u001b[0m",
      "\u001b[1;31mValueError\u001b[0m                                Traceback (most recent call last)",
      "Cell \u001b[1;32mIn[6], line 2\u001b[0m\n\u001b[0;32m      1\u001b[0m \u001b[38;5;66;03m# разные размеры списков внутри одного списка\u001b[39;00m\n\u001b[1;32m----> 2\u001b[0m \u001b[43mnp\u001b[49m\u001b[38;5;241;43m.\u001b[39;49m\u001b[43marray\u001b[49m\u001b[43m(\u001b[49m\u001b[43m[\u001b[49m\u001b[43m[\u001b[49m\u001b[38;5;241;43m1\u001b[39;49m\u001b[43m,\u001b[49m\u001b[43m \u001b[49m\u001b[38;5;241;43m2\u001b[39;49m\u001b[43m,\u001b[49m\u001b[43m \u001b[49m\u001b[38;5;241;43m3\u001b[39;49m\u001b[43m]\u001b[49m\u001b[43m,\u001b[49m\n\u001b[0;32m      3\u001b[0m \u001b[43m          \u001b[49m\u001b[43m[\u001b[49m\u001b[38;5;241;43m4\u001b[39;49m\u001b[43m,\u001b[49m\u001b[43m \u001b[49m\u001b[38;5;241;43m5\u001b[39;49m\u001b[43m]\u001b[49m\u001b[43m]\u001b[49m\u001b[43m)\u001b[49m\n",
      "\u001b[1;31mValueError\u001b[0m: setting an array element with a sequence. The requested array has an inhomogeneous shape after 1 dimensions. The detected shape was (2,) + inhomogeneous part."
     ]
    }
   ],
   "source": [
    "# разные размеры списков внутри одного списка\n",
    "np.array([[1, 2, 3],\n",
    "          [4, 5]])"
   ]
  },
  {
   "cell_type": "code",
   "execution_count": 14,
   "metadata": {},
   "outputs": [
    {
     "name": "stdout",
     "output_type": "stream",
     "text": [
      "[[3.1 6.2 9.3]\n",
      " [3.1 6.2 9.3]]\n",
      "2 (2, 3) 6\n"
     ]
    }
   ],
   "source": [
    "ar1 = np.array([[1, 2, 3], [1, 2, 3]]) * 2\n",
    "ar2 = ar1 + np.array([[1.1, 2.2, 3.3], [1.1, 2.2, 3.3]])\n",
    "print(ar2)\n",
    "\n",
    "# характеристики\n",
    "print(ar2.ndim, ar2.shape, ar2.size)"
   ]
  },
  {
   "cell_type": "code",
   "execution_count": 16,
   "metadata": {},
   "outputs": [
    {
     "name": "stdout",
     "output_type": "stream",
     "text": [
      "[1 2 3]\n"
     ]
    }
   ],
   "source": [
    "# разница в выводе \n",
    "arr = np.array([1, 2, 3])\n",
    "#arr\n",
    "\n",
    "print(arr)"
   ]
  },
  {
   "cell_type": "code",
   "execution_count": 25,
   "metadata": {},
   "outputs": [
    {
     "data": {
      "text/plain": [
       "array([[4.        , 2.33333333],\n",
       "       [4.66666667, 4.        ],\n",
       "       [3.        , 3.33333333]])"
      ]
     },
     "execution_count": 25,
     "metadata": {},
     "output_type": "execute_result"
    }
   ],
   "source": [
    "# выводим ср. знач. в зависимости от измерения\n",
    "\n",
    "grades = np.array([[[3, 5, 4], \n",
    "                    [2, 2, 3]],\n",
    "\n",
    "                   [[5, 5, 4], \n",
    "                    [5, 2, 5]],\n",
    "\n",
    "                   [[3, 2, 4], \n",
    "                    [5, 2, 3]]])\n",
    "# среднее по столбцу КАЖДОЙ строчки КАЖДОГО элемента\n",
    "# grades.mean(axis=0)\n",
    "# среднее по столбцу КАЖДОГО элемента\n",
    "# grades.mean(axis=1)\n",
    "# среднее по КАЖДОМУ элементу\n",
    "grades.mean(axis=2)"
   ]
  },
  {
   "cell_type": "markdown",
   "metadata": {},
   "source": [
    "#### Создание массивов"
   ]
  },
  {
   "cell_type": "code",
   "execution_count": null,
   "metadata": {},
   "outputs": [],
   "source": [
    "# из списка\n",
    "np.array([1, 2, 3])"
   ]
  },
  {
   "cell_type": "code",
   "execution_count": 28,
   "metadata": {},
   "outputs": [
    {
     "data": {
      "text/plain": [
       "array([2. , 4.5, 7. ])"
      ]
     },
     "execution_count": 28,
     "metadata": {},
     "output_type": "execute_result"
    }
   ],
   "source": [
    "# с помощью arange (мин, макс, шаг)\n",
    "np.arange(2, 9, 2.5)"
   ]
  },
  {
   "cell_type": "code",
   "execution_count": 30,
   "metadata": {},
   "outputs": [
    {
     "data": {
      "text/plain": [
       "array([[0., 0., 0.],\n",
       "       [0., 0., 0.]])"
      ]
     },
     "execution_count": 30,
     "metadata": {},
     "output_type": "execute_result"
    }
   ],
   "source": [
    "# из нулей ((размерность))\n",
    "np.zeros((2, 3))"
   ]
  },
  {
   "cell_type": "code",
   "execution_count": 31,
   "metadata": {},
   "outputs": [
    {
     "data": {
      "text/plain": [
       "array([[1., 1., 1.],\n",
       "       [1., 1., 1.]])"
      ]
     },
     "execution_count": 31,
     "metadata": {},
     "output_type": "execute_result"
    }
   ],
   "source": [
    "# из единиц ((размерность))\n",
    "np.ones((2, 3))"
   ]
  },
  {
   "cell_type": "code",
   "execution_count": 32,
   "metadata": {},
   "outputs": [
    {
     "data": {
      "text/plain": [
       "array([[1., 0., 0., 0.],\n",
       "       [0., 1., 0., 0.],\n",
       "       [0., 0., 1., 0.],\n",
       "       [0., 0., 0., 1.]])"
      ]
     },
     "execution_count": 32,
     "metadata": {},
     "output_type": "execute_result"
    }
   ],
   "source": [
    "# из 0 и 1 (единичная матрица)\n",
    "np.eye(4)"
   ]
  },
  {
   "cell_type": "markdown",
   "metadata": {},
   "source": [
    "#### Булевы массивы и условия"
   ]
  },
  {
   "cell_type": "code",
   "execution_count": 35,
   "metadata": {},
   "outputs": [
    {
     "data": {
      "text/plain": [
       "array([[False,  True,  True,  True],\n",
       "       [ True,  True, False,  True],\n",
       "       [ True,  True, False, False]])"
      ]
     },
     "execution_count": 35,
     "metadata": {},
     "output_type": "execute_result"
    }
   ],
   "source": [
    "ages = np.array([[12, 25, 36, 45],\n",
    "                 [56, 85, 11, 20],\n",
    "                 [42, 35, 8, 7]])\n",
    "M = ages > 16\n",
    "M"
   ]
  },
  {
   "cell_type": "code",
   "execution_count": 37,
   "metadata": {},
   "outputs": [
    {
     "data": {
      "text/plain": [
       "7"
      ]
     },
     "execution_count": 37,
     "metadata": {},
     "output_type": "execute_result"
    }
   ],
   "source": [
    "work = (ages > 18) & (ages < 60)\n",
    "\n",
    "# сколько людей соответствуют условиям\n",
    "work.sum()"
   ]
  },
  {
   "cell_type": "code",
   "execution_count": 40,
   "metadata": {},
   "outputs": [
    {
     "data": {
      "text/plain": [
       "array([25, 36, 45, 56, 20, 42, 35])"
      ]
     },
     "execution_count": 40,
     "metadata": {},
     "output_type": "execute_result"
    }
   ],
   "source": [
    "(ages < 18) | (ages > 60)\n",
    "\n",
    "# выводим элементы, удовлетворяющие условиям (скобки обязательны, если условий несколько)\n",
    "ages[(ages > 16) & (ages < 60)]"
   ]
  },
  {
   "cell_type": "markdown",
   "metadata": {},
   "source": [
    "#### Изменение размерностей массива"
   ]
  },
  {
   "cell_type": "code",
   "execution_count": 46,
   "metadata": {},
   "outputs": [
    {
     "name": "stdout",
     "output_type": "stream",
     "text": [
      "[[5 3]\n",
      " [9 4]\n",
      " [7 1]]\n",
      "[[5 9 7]\n",
      " [3 4 1]]\n",
      "[5 9 7 3 4 1]\n"
     ]
    }
   ],
   "source": [
    "score = np.array([5, 3, 9, 4, 7, 1])\n",
    "\n",
    "# преобразуем в массив 3 на 2\n",
    "score_new = score.reshape(3, 2)\n",
    "print(score_new)\n",
    "\n",
    "# транспонируем\n",
    "score_tr = score_new.T\n",
    "print(score_tr)\n",
    "\n",
    "# преобразуем к 1D массиву\n",
    "d1 = score_tr.ravel()\n",
    "print(d1)"
   ]
  },
  {
   "cell_type": "markdown",
   "metadata": {},
   "source": [
    "#### Если нужно создать копию массива, то нельзя просто присвоить. Для этого есть метод .cpoy() и срез"
   ]
  },
  {
   "cell_type": "code",
   "execution_count": 51,
   "metadata": {},
   "outputs": [
    {
     "name": "stdout",
     "output_type": "stream",
     "text": [
      "[[15  3]\n",
      " [ 9  4]\n",
      " [ 7  1]]\n",
      "[[10  3]\n",
      " [ 9  4]\n",
      " [ 7  1]]\n",
      "[[20  3]\n",
      " [ 9  4]\n",
      " [ 7  1]]\n"
     ]
    }
   ],
   "source": [
    "# copy()\n",
    "\n",
    "score_new1 = score_new.copy()\n",
    "#score_new2 = score_new\n",
    "#score_new2[0][0] = 15\n",
    "score_new1[0][0] = 10\n",
    "print(score_new)\n",
    "print(score_new1)\n",
    "#print(score_new2)\n",
    "\n",
    "# срез\n",
    "\n",
    "score_new3 = score_new[:]\n",
    "score_new3[0][0] = 20\n",
    "print(score_new3)"
   ]
  },
  {
   "cell_type": "code",
   "execution_count": 52,
   "metadata": {},
   "outputs": [
    {
     "data": {
      "text/plain": [
       "array([[19,  2],\n",
       "       [ 8,  3],\n",
       "       [ 7,  1]])"
      ]
     },
     "execution_count": 52,
     "metadata": {},
     "output_type": "execute_result"
    }
   ],
   "source": [
    "# Изменение элементов массива\n",
    "score_new3[0:2] = [[19, 2], [8, 3]]\n",
    "score_new3"
   ]
  },
  {
   "cell_type": "markdown",
   "metadata": {},
   "source": [
    "#### Можно применять арифметические функции к массивам прям так: np.sqrt(arr)"
   ]
  },
  {
   "cell_type": "code",
   "execution_count": 55,
   "metadata": {},
   "outputs": [
    {
     "data": {
      "text/plain": [
       "array([[ 6.90775528,  7.60090246,  6.2146081 , 11.40756495],\n",
       "       [ 7.82404601,  6.55108034,  8.61250337,  6.39692966]])"
      ]
     },
     "execution_count": 55,
     "metadata": {},
     "output_type": "execute_result"
    }
   ],
   "source": [
    "arr = np.array([[1000, 2000, 500, 90000],\n",
    "               [2500, 700, 5500, 600]])\n",
    "np.log(arr)"
   ]
  },
  {
   "cell_type": "code",
   "execution_count": 59,
   "metadata": {},
   "outputs": [
    {
     "data": {
      "text/plain": [
       "[<matplotlib.lines.Line2D at 0x2785f306b40>]"
      ]
     },
     "execution_count": 59,
     "metadata": {},
     "output_type": "execute_result"
    },
    {
     "data": {
      "image/png": "[encoded data removed]",
      "text/plain": [
       "<Figure size 640x480 with 1 Axes>"
      ]
     },
     "metadata": {},
     "output_type": "display_data"
    }
   ],
   "source": [
    "%matplotlib inline\n",
    "# для того, чтобы график отображался прямо тут, пользуемся magic line\n",
    "# flatten делает массив плоским\n",
    "from matplotlib import pyplot as plt\n",
    "plt.plot(np.arange(8), arr.flatten(), 'co')"
   ]
  },
  {
   "cell_type": "code",
   "execution_count": 60,
   "metadata": {},
   "outputs": [
    {
     "data": {
      "text/plain": [
       "[<matplotlib.lines.Line2D at 0x2785f33ba40>]"
      ]
     },
     "execution_count": 60,
     "metadata": {},
     "output_type": "execute_result"
    },
    {
     "data": {
      "image/png": "[encoded data removed]",
      "text/plain": [
       "<Figure size 640x480 with 1 Axes>"
      ]
     },
     "metadata": {},
     "output_type": "display_data"
    }
   ],
   "source": [
    "plt.plot(np.arange(8), np.log(arr).flatten(), 'co')"
   ]
  },
  {
   "cell_type": "markdown",
   "metadata": {},
   "source": [
    "#### Функции numpy\n",
    "* arr.round(количество знаков после запятой) - округляет\n",
    "* np.floor(arr) - округляет в меньшую сторону\n",
    "* np.ceil(arr) - округляет в большую сторону\n",
    "* np.add(arr, num) - отнимает у элементов массива число num\n",
    "* np.subtract(arr, num)\n",
    "* np.sum(arr) - суммирует все элементы\n",
    "* np.prod(arr) - перемножает все элементы\n",
    "* np.datetime64('2000-01-01') - преобрзует строку в дату\n",
    "* с датой можно работать нормально, например отнять от одной даты другую"
   ]
  },
  {
   "cell_type": "code",
   "execution_count": 70,
   "metadata": {},
   "outputs": [
    {
     "name": "stdout",
     "output_type": "stream",
     "text": [
      "2001-01-02\n",
      "('D', 1)\n"
     ]
    }
   ],
   "source": [
    "d1 = np.datetime64('2000-01-01')\n",
    "d2 = np.datetime64('2001-01-02')\n",
    "d2 - d1\n",
    "d3 = np.datetime_as_string(d2)\n",
    "print(d3)\n",
    "# ???\n",
    "d4 = np.datetime_data(d1)\n",
    "print(d4)"
   ]
  },
  {
   "cell_type": "markdown",
   "metadata": {},
   "source": [
    "#### Структурированные массиы numpy\n",
    "* они представляют собой некие массивы, похожие на таблицу, каждый столбец которой имеет конкретный заданный нами тип\n",
    "\n",
    "пусть будет такая таблица:\n",
    "\n",
    "name        |       age       |        height                "
   ]
  },
  {
   "cell_type": "code",
   "execution_count": 72,
   "metadata": {},
   "outputs": [
    {
     "name": "stdout",
     "output_type": "stream",
     "text": [
      "[('Anna', 19, 165.2) ('Kate', 25, 175.3) ('Klava', 64, 169.7)]\n"
     ]
    }
   ],
   "source": [
    "# создадим массив структурированный\n",
    "# U10 - юникодная строка с максимальным числом символов - 10\n",
    "info = np.array([('Anna', 19, 165.2), ('Kate', 25, 175.3), ('Klava', 64, 169.7)],\n",
    "                dtype = [('name', 'U10'), ('age', int), ('height', float)])\n",
    "print(info)"
   ]
  },
  {
   "cell_type": "code",
   "execution_count": 78,
   "metadata": {},
   "outputs": [
    {
     "name": "stdout",
     "output_type": "stream",
     "text": [
      "('Anna', 19, 165.2)\n",
      "[('Anna', 19, 165.2) ('Kate', 25, 175.3)]\n",
      "[19 25 64]\n",
      "Anna\n",
      "[('Anna', 19) ('Kate', 25) ('Klava', 64)]\n"
     ]
    }
   ],
   "source": [
    "# печатаем разное\n",
    "print(info[0]) # 1 строка\n",
    "print(info[0:2]) # срез (1, 2 строки)\n",
    "print(info['age']) # обращение к столбцу\n",
    "print(info['name'][0]) # обращение к конкретному элементу конкретного столбца\n",
    "print(info[['name', 'age']]) # получение пар значений"
   ]
  },
  {
   "cell_type": "markdown",
   "metadata": {},
   "source": [
    "#### Чтение и запись массивов в файл и приобразование массива в список"
   ]
  },
  {
   "cell_type": "code",
   "execution_count": 79,
   "metadata": {},
   "outputs": [],
   "source": [
    "# сохранение в файл npy\n",
    "np.save('info.npy', info)"
   ]
  },
  {
   "cell_type": "code",
   "execution_count": 80,
   "metadata": {},
   "outputs": [
    {
     "data": {
      "text/plain": [
       "array([('Anna', 19, 165.2), ('Kate', 25, 175.3), ('Klava', 64, 169.7)],\n",
       "      dtype=[('name', '<U10'), ('age', '<i4'), ('height', '<f8')])"
      ]
     },
     "execution_count": 80,
     "metadata": {},
     "output_type": "execute_result"
    }
   ],
   "source": [
    "# выгрузка из файла в новый массив\n",
    "new = np.load('info.npy')\n",
    "new"
   ]
  },
  {
   "cell_type": "code",
   "execution_count": 84,
   "metadata": {},
   "outputs": [],
   "source": [
    "# сохранение в txt файл\n",
    "new = np.array([12, 47, 38, 99])\n",
    "np.savetxt('info.txt', new)"
   ]
  },
  {
   "cell_type": "code",
   "execution_count": 85,
   "metadata": {},
   "outputs": [
    {
     "data": {
      "text/plain": [
       "\"[('Anna', 19, 165.2) ('Kate', 25, 175.3) ('Klava', 64, 169.7)]\""
      ]
     },
     "execution_count": 85,
     "metadata": {},
     "output_type": "execute_result"
    }
   ],
   "source": [
    "# преобразование массива в строку\n",
    "np.array2string(info)"
   ]
  },
  {
   "cell_type": "code",
   "execution_count": 87,
   "metadata": {},
   "outputs": [
    {
     "data": {
      "text/plain": [
       "[('Anna', 19, 165.2), ('Kate', 25, 175.3), ('Klava', 64, 169.7)]"
      ]
     },
     "execution_count": 87,
     "metadata": {},
     "output_type": "execute_result"
    }
   ],
   "source": [
    "# преобразование массива в список\n",
    "new.tolist()\n",
    "info.tolist()"
   ]
  }
 ],
 "metadata": {
  "kernelspec": {
   "display_name": "Python 3",
   "language": "python",
   "name": "python3"
  },
  "language_info": {
   "codemirror_mode": {
    "name": "ipython",
    "version": 3
   },
   "file_extension": ".py",
   "mimetype": "text/x-python",
   "name": "python",
   "nbconvert_exporter": "python",
   "pygments_lexer": "ipython3",
   "version": "3.12.0"
  }
 },
 "nbformat": 4,
 "nbformat_minor": 2
}
